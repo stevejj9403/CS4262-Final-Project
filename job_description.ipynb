{
  "nbformat": 4,
  "nbformat_minor": 0,
  "metadata": {
    "colab": {
      "provenance": []
    },
    "kernelspec": {
      "name": "python3",
      "display_name": "Python 3"
    },
    "language_info": {
      "name": "python"
    }
  },
  "cells": [
    {
      "cell_type": "markdown",
      "source": [
        "##Text Simmilarity Analysis with Job Description\n",
        "By: Karen Pu\n",
        "Date: April 25, 2024\n",
        "\n",
        "This code calculates the text similarity between Why Sybbure questions and the\n",
        "official Sybbure decription. Inspired by how ML is used to match candidate\n",
        "resumes to desired traits highlighted in job description, we tested if\n",
        "Td-Idf similarity between applicant responses and Sybbure description was\n",
        "associated with whether an applicant made it or not"
      ],
      "metadata": {
        "id": "eZCQW9DLVyZf"
      }
    },
    {
      "cell_type": "code",
      "execution_count": null,
      "metadata": {
        "id": "ISB9X3E_5A8Q"
      },
      "outputs": [],
      "source": [
        "# Description of Sybbure Searle program and what they are looking for\n",
        "\n",
        "description = \"\"\"The SyBBURE Searle Program seeks to transform the scientific field into an inclusive, integrated, purposeful community—one student at a time.\n",
        "To seek after this vision, we provide students with experiences in both research and design within an idealized community so that they may be transformed into the next generation of innovators, regardless of their current major or future plans.\n",
        "A generous gift from Gideon Searle, a Vanderbilt alumnus, allows us to provide this distinctive opportunity for undergraduate students at Vanderbilt University to explore science at promising and exciting frontiers! The gift supports student participation in research projects conducted in labs across Vanderbilt’s campus. We partner with the faculty, post-doctoral fellows, and graduate students in these labs to provide our students with tailored, mentored immersion experiences in advanced scientific research. To bolster their research experience, students engage in team-based design projects with peers in the program to further explore their interests and solve real-world problems.\n",
        "While students gravitate towards the program for the research experience, they often stay because of the community. We are an idealized research and design playground where students can work together and grow both personally and professionally, exemplifying the inclusive, integrated, purposeful community we ideally want the scientific community to be.\n",
        "To establish our program culture, we create a scaffold of high expectations coupled with a dynamic, fluid, and fun environment. The philosophy of the SyBBURE Searle Program exists around a “maximum effort for maximum return” ideology. Through this year-round research and design experience, students develop and expand their skill sets, are encouraged to explore their passions and ideas, and receive personalized mentorship from their faculty research adviser, as well as the SyBBURE Searle team.\"\"\""
      ]
    },
    {
      "cell_type": "code",
      "source": [
        "import pandas as pd\n",
        "import numpy as np\n",
        "from nltk.tokenize import word_tokenize\n",
        "from nltk import pos_tag\n",
        "from nltk.corpus import stopwords\n",
        "from nltk.stem import WordNetLemmatizer\n",
        "from sklearn.preprocessing import LabelEncoder\n",
        "from collections import defaultdict\n",
        "from nltk.corpus import wordnet as wn\n",
        "from sklearn.feature_extraction.text import TfidfVectorizer\n",
        "from sklearn import model_selection, naive_bayes, svm\n",
        "from sklearn.metrics import accuracy_score\n",
        "nltk.download('punkt')"
      ],
      "metadata": {
        "id": "mpLFAFitPwh2",
        "colab": {
          "base_uri": "https://localhost:8080/"
        },
        "outputId": "b2e61807-830c-4d10-dc3d-e22fdcb85b2a"
      },
      "execution_count": null,
      "outputs": [
        {
          "output_type": "stream",
          "name": "stderr",
          "text": [
            "[nltk_data] Downloading package punkt to /root/nltk_data...\n",
            "[nltk_data]   Unzipping tokenizers/punkt.zip.\n"
          ]
        },
        {
          "output_type": "execute_result",
          "data": {
            "text/plain": [
              "True"
            ]
          },
          "metadata": {},
          "execution_count": 6
        }
      ]
    },
    {
      "cell_type": "code",
      "source": [
        "# extract necessary data\n",
        "import pandas as pd\n",
        "\n",
        "df = pd.read_csv(\"./sample_data/sybbure_data.csv\")\n",
        "\n",
        "filtered = df[[\"What are your goals and motivations for participating in SyBBURE?\",\n",
        "          \"Why are you seeking an experience in research and/or design?\",\n",
        "               \"Group Interview\",\n",
        "               \"Spot in the program?\"]]\n",
        "\n",
        "filtered['Interview'] = filtered[\"Group Interview\"].apply(lambda x: 1 if x == 'Y' else 0)\n",
        "filtered[\"Spot\"] = filtered[\"Spot in the program?\"].apply(lambda x: 1 if x == 'Y' else 0)\n"
      ],
      "metadata": {
        "colab": {
          "base_uri": "https://localhost:8080/"
        },
        "id": "_H0w_OEK5VPT",
        "outputId": "6a07a58b-9254-4d12-84f3-a4b7dfc83f6c"
      },
      "execution_count": null,
      "outputs": [
        {
          "output_type": "stream",
          "name": "stderr",
          "text": [
            "<ipython-input-7-571dc78d12b4>:11: SettingWithCopyWarning: \n",
            "A value is trying to be set on a copy of a slice from a DataFrame.\n",
            "Try using .loc[row_indexer,col_indexer] = value instead\n",
            "\n",
            "See the caveats in the documentation: https://pandas.pydata.org/pandas-docs/stable/user_guide/indexing.html#returning-a-view-versus-a-copy\n",
            "  filtered['Interview'] = filtered[\"Group Interview\"].apply(lambda x: 1 if x == 'Y' else 0)\n",
            "<ipython-input-7-571dc78d12b4>:12: SettingWithCopyWarning: \n",
            "A value is trying to be set on a copy of a slice from a DataFrame.\n",
            "Try using .loc[row_indexer,col_indexer] = value instead\n",
            "\n",
            "See the caveats in the documentation: https://pandas.pydata.org/pandas-docs/stable/user_guide/indexing.html#returning-a-view-versus-a-copy\n",
            "  filtered[\"Spot\"] = filtered[\"Spot in the program?\"].apply(lambda x: 1 if x == 'Y' else 0)\n"
          ]
        }
      ]
    },
    {
      "cell_type": "markdown",
      "source": [],
      "metadata": {
        "id": "hzpHWFkU5PlX"
      }
    },
    {
      "cell_type": "code",
      "source": [
        "# preprocess data\n",
        "import nltk\n",
        "import string\n",
        "from nltk import word_tokenize\n",
        "from nltk.corpus import stopwords\n",
        "from nltk.stem.porter import PorterStemmer\n",
        "\n",
        "nltk.download('stopwords')\n",
        "\n",
        "def preprocess(text):\n",
        "    text = text.lower()\n",
        "\n",
        "    text = \"\".join([char for char in text if char not in string.punctuation])\n",
        "    words = nltk.word_tokenize(text)\n",
        "\n",
        "    stop_words = stopwords.words('english')\n",
        "    filtered_words = [word for word in words if word not in stop_words]\n",
        "\n",
        "    porter = PorterStemmer()\n",
        "    stemmed = [porter.stem(word) for word in filtered_words]\n",
        "\n",
        "    return stemmed\n",
        "\n",
        "description_processed = preprocess(description)\n",
        "filtered['Goal_Token'] = filtered[\"What are your goals and motivations for participating in SyBBURE?\"].apply(preprocess)\n",
        "filtered[\"Research_Token\"] = filtered[\"Why are you seeking an experience in research and/or design?\"].apply(preprocess)\n",
        "\n",
        "filtered['Combine'] = filtered.apply(lambda row: \" \".join(row['Goal_Token'] + row['Research_Token']), axis=1)\n",
        "df = filtered[['Combine', 'Interview', 'Spot']]\n"
      ],
      "metadata": {
        "colab": {
          "base_uri": "https://localhost:8080/"
        },
        "id": "b3KANmND87jk",
        "outputId": "db5505d0-9f6d-4867-bc92-62153b27e1d1"
      },
      "execution_count": null,
      "outputs": [
        {
          "output_type": "stream",
          "name": "stderr",
          "text": [
            "[nltk_data] Downloading package stopwords to /root/nltk_data...\n",
            "[nltk_data]   Package stopwords is already up-to-date!\n",
            "<ipython-input-8-1da901daf4a9>:25: SettingWithCopyWarning: \n",
            "A value is trying to be set on a copy of a slice from a DataFrame.\n",
            "Try using .loc[row_indexer,col_indexer] = value instead\n",
            "\n",
            "See the caveats in the documentation: https://pandas.pydata.org/pandas-docs/stable/user_guide/indexing.html#returning-a-view-versus-a-copy\n",
            "  filtered['Goal_Token'] = filtered[\"What are your goals and motivations for participating in SyBBURE?\"].apply(preprocess)\n",
            "<ipython-input-8-1da901daf4a9>:26: SettingWithCopyWarning: \n",
            "A value is trying to be set on a copy of a slice from a DataFrame.\n",
            "Try using .loc[row_indexer,col_indexer] = value instead\n",
            "\n",
            "See the caveats in the documentation: https://pandas.pydata.org/pandas-docs/stable/user_guide/indexing.html#returning-a-view-versus-a-copy\n",
            "  filtered[\"Research_Token\"] = filtered[\"Why are you seeking an experience in research and/or design?\"].apply(preprocess)\n",
            "<ipython-input-8-1da901daf4a9>:28: SettingWithCopyWarning: \n",
            "A value is trying to be set on a copy of a slice from a DataFrame.\n",
            "Try using .loc[row_indexer,col_indexer] = value instead\n",
            "\n",
            "See the caveats in the documentation: https://pandas.pydata.org/pandas-docs/stable/user_guide/indexing.html#returning-a-view-versus-a-copy\n",
            "  filtered['Combine'] = filtered.apply(lambda row: \" \".join(row['Goal_Token'] + row['Research_Token']), axis=1)\n"
          ]
        }
      ]
    },
    {
      "cell_type": "code",
      "source": [
        "# split train and test for spot in program\n",
        "Train_X, Test_X, Train_Y, Test_Y = model_selection.train_test_split(filtered['Combine'],filtered['Spot'],test_size=0.2)\n",
        "\n",
        "Encoder = LabelEncoder()\n",
        "Train_Y = Encoder.fit_transform(Train_Y)\n",
        "Test_Y = Encoder.fit_transform(Test_Y)\n",
        "\n",
        "Tfidf_vect = TfidfVectorizer(max_features=5000)\n",
        "Tfidf_vect.fit(description_processed)\n",
        "Train_X_Tfidf = Tfidf_vect.transform(Train_X)\n",
        "Test_X_Tfidf = Tfidf_vect.transform(Test_X)\n",
        "\n",
        "print(Tfidf_vect.vocabulary_)\n"
      ],
      "metadata": {
        "colab": {
          "base_uri": "https://localhost:8080/"
        },
        "id": "aydB4fsFO-wq",
        "outputId": "f840de72-5a22-4b41-a880-1c45e0164ca8"
      },
      "execution_count": null,
      "outputs": [
        {
          "output_type": "stream",
          "name": "stdout",
          "text": [
            "{'sybbur': 95, 'searl': 87, 'program': 74, 'seek': 88, 'transform': 102, 'scientif': 86, 'field': 33, 'inclus': 49, 'integr': 51, 'purpos': 78, 'community': 9, 'on': 61, 'student': 93, 'time': 99, 'vision': 107, 'provid': 77, 'experi': 29, 'research': 82, 'design': 15, 'within': 110, 'ideal': 46, 'commun': 8, 'may': 56, 'next': 59, 'gener': 38, 'innov': 50, 'regardless': 81, 'current': 14, 'major': 54, 'futur': 37, 'plan': 69, 'gift': 40, 'gideon': 39, 'vanderbilt': 106, 'alumnu': 4, 'allow': 3, 'us': 105, 'distinct': 17, 'opportun': 62, 'undergradu': 103, 'univers': 104, 'explor': 30, 'scienc': 85, 'promis': 76, 'excit': 24, 'frontier': 35, 'support': 94, 'particip': 63, 'project': 75, 'conduct': 10, 'lab': 53, 'across': 0, 'campu': 7, 'partner': 64, 'faculti': 31, 'postdoctor': 71, 'fellow': 32, 'graduat': 41, 'tailor': 96, 'mentor': 57, 'immers': 48, 'advanc': 1, 'bolster': 6, 'engag': 21, 'teambas': 98, 'peer': 66, 'interest': 52, 'solv': 91, 'realworld': 79, 'problem': 72, 'gravit': 42, 'toward': 101, 'often': 60, 'stay': 92, 'playground': 70, 'work': 111, 'togeth': 100, 'grow': 43, 'person': 67, 'profession': 73, 'exemplifi': 25, 'want': 108, 'establish': 23, 'cultur': 13, 'creat': 12, 'scaffold': 84, 'high': 44, 'expect': 28, 'coupl': 11, 'dynam': 18, 'fluid': 34, 'fun': 36, 'environ': 22, 'philosophi': 68, 'exist': 26, 'around': 5, 'maximum': 55, 'effort': 19, 'return': 83, 'ideolog': 47, 'yearround': 112, 'develop': 16, 'expand': 27, 'skill': 90, 'set': 89, 'encourag': 20, 'passion': 65, 'idea': 45, 'receiv': 80, 'mentorship': 58, 'advis': 2, 'well': 109, 'team': 97}\n"
          ]
        }
      ]
    },
    {
      "cell_type": "code",
      "source": [
        "# fit the training dataset on the NB classifier\n",
        "Naive = naive_bayes.MultinomialNB()\n",
        "Naive.fit(Train_X_Tfidf,Train_Y)\n",
        "# predict the labels on validation dataset\n",
        "predictions_NB = Naive.predict(Test_X_Tfidf)\n",
        "print(predictions_NB)\n",
        "# Use accuracy_score function to get the accuracy\n",
        "print(\"Naive Bayes Accuracy Score -> \",accuracy_score(predictions_NB, Test_Y)*100)"
      ],
      "metadata": {
        "colab": {
          "base_uri": "https://localhost:8080/"
        },
        "id": "iolZolqDADwi",
        "outputId": "043b9f8c-361f-435b-ee99-19010b1883be"
      },
      "execution_count": null,
      "outputs": [
        {
          "output_type": "stream",
          "name": "stdout",
          "text": [
            "[0 0 0 0 0 0 0 0 0 0 0 0 0 0 0 0 0 0 0 0 0 0 0 0 0 0 0 0 0 0 0 0 0 0 0 0 0\n",
            " 0 0 0 0 0 0 0 0 0 0 0 0 0 0 0]\n",
            "Naive Bayes Accuracy Score ->  84.61538461538461\n"
          ]
        }
      ]
    },
    {
      "cell_type": "code",
      "source": [
        "# Classifier - Algorithm - SVM\n",
        "# fit the training dataset on the classifier\n",
        "SVM = svm.SVC(C=1.0, kernel='linear', degree=3, gamma='auto')\n",
        "SVM.fit(Train_X_Tfidf,Train_Y)\n",
        "# predict the labels on validation dataset\n",
        "predictions_SVM = SVM.predict(Test_X_Tfidf)\n",
        "print(predictions_SVM)\n",
        "print(Test_Y)\n",
        "# Use accuracy_score function to get the accuracy\n",
        "print(\"SVM Accuracy Score -> \",accuracy_score(predictions_SVM, Test_Y)*100)"
      ],
      "metadata": {
        "colab": {
          "base_uri": "https://localhost:8080/"
        },
        "id": "_k2vH5izQFR_",
        "outputId": "d39a0ec5-ee83-44d1-9b93-5e92102dfa69"
      },
      "execution_count": null,
      "outputs": [
        {
          "output_type": "stream",
          "name": "stdout",
          "text": [
            "[0 0 0 0 0 0 0 0 0 0 0 0 0 0 0 0 0 0 0 0 0 0 0 0 0 0 0 0 0 0 0 0 0 0 0 0 0\n",
            " 0 0 0 0 0 0 0 0 0 0 0 0 0 0 0]\n",
            "[0 0 0 0 0 0 1 0 1 0 0 0 0 0 0 0 0 0 0 0 0 1 0 0 1 0 0 0 1 0 0 0 0 1 0 0 0\n",
            " 1 0 0 0 1 0 0 0 0 0 0 0 0 0 0]\n",
            "SVM Accuracy Score ->  84.61538461538461\n"
          ]
        }
      ]
    },
    {
      "cell_type": "markdown",
      "source": [
        "Acknowledgements:\n",
        "- Sybbure Searle Undergraduate Research Program (https://www.sybbure.org/)\n",
        "- ChatGPT\n",
        "- https://www.jetir.org/papers/JETIR2305459.pdf"
      ],
      "metadata": {
        "id": "eKl3u32mSndW"
      }
    }
  ]
}