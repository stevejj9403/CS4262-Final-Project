{
  "cells": [
    {
      "cell_type": "markdown",
      "source": [
        "## College Dropout Prediction with SVM | CS 4262\n",
        "By: Karen\n",
        "\n",
        "Date: April 25, 2024\n",
        "\n",
        "We utilize a combination of PCA and SVM to predict student retention utilizing a dataset from Kaggle."
      ],
      "metadata": {
        "id": "AeDXwLfZW64k"
      }
    },
    {
      "cell_type": "code",
      "execution_count": 1,
      "metadata": {
        "id": "P6D9lmJPi7Pn"
      },
      "outputs": [],
      "source": [
        "import matplotlib.pyplot as plt\n",
        "import numpy as np\n",
        "import pandas as pd\n",
        "from sklearn.model_selection import GridSearchCV, train_test_split, cross_val_predict\n",
        "from sklearn.svm import SVC\n",
        "from sklearn.metrics import recall_score, precision_score, f1_score, accuracy_score, classification_report, confusion_matrix, ConfusionMatrixDisplay\n",
        "from sklearn.model_selection import KFold, cross_val_score\n",
        "from matplotlib.colors import ListedColormap"
      ]
    },
    {
      "cell_type": "code",
      "execution_count": 2,
      "metadata": {
        "id": "MWHssRrbkde-"
      },
      "outputs": [],
      "source": [
        "data = pd.read_csv(\"./sample_data/dropout_data.csv\")"
      ]
    },
    {
      "cell_type": "markdown",
      "source": [
        "## Preprocessing and Parameters"
      ],
      "metadata": {
        "id": "pPw0MyZZYyDc"
      }
    },
    {
      "cell_type": "code",
      "execution_count": 3,
      "metadata": {
        "id": "_Vn0jMVLksO8",
        "colab": {
          "base_uri": "https://localhost:8080/"
        },
        "outputId": "9fa42337-63ac-4f89-dfec-9ede66e21e71"
      },
      "outputs": [
        {
          "output_type": "stream",
          "name": "stderr",
          "text": [
            "<ipython-input-3-2f7ba3cd9094>:3: SettingWithCopyWarning: \n",
            "A value is trying to be set on a copy of a slice from a DataFrame\n",
            "\n",
            "See the caveats in the documentation: https://pandas.pydata.org/pandas-docs/stable/user_guide/indexing.html#returning-a-view-versus-a-copy\n",
            "  processed_data.drop(['International',\n"
          ]
        }
      ],
      "source": [
        "data = data.dropna()\n",
        "processed_data = data[~data[\"Target\"].str.contains(\"Enroll\")]\n",
        "processed_data.drop(['International',\n",
        "           'Nacionality',\n",
        "           \"Mother's qualification\",\n",
        "           \"Curricular units 1st sem (evaluations)\",\n",
        "           \"Mother's occupation\",\n",
        "           \"Father's occupation\",\n",
        "           \"Father's qualification\",\n",
        "           'Unemployment rate',\n",
        "           \"Application order\",\n",
        "           \"GDP\",\n",
        "           'Inflation rate'],axis=1,inplace=True)\n",
        "\n",
        "df = (pd.DataFrame(processed_data['Target'].apply(lambda x: 0 if x == \"Dropout\" else 1))).to_numpy()\n",
        "exploration_data = processed_data.drop('Target', axis=1).values"
      ]
    },
    {
      "cell_type": "code",
      "source": [
        "def run_SVM(input, C, gamma):\n",
        "  performance = []\n",
        "  kFold=KFold(n_splits=5,shuffle=False)\n",
        "  for train_index,test_index in kFold.split(input):\n",
        "      X_train, X_test, y_train, y_test = input[train_index], input[test_index], df[train_index], df[test_index]\n",
        "\n",
        "      # run SVM\n",
        "      sv = SVC(C=C, gamma=gamma)\n",
        "      sv.fit(X_train, y_train.ravel())\n",
        "\n",
        "      # performance\n",
        "      y_pred = sv.predict(X_test)\n",
        "      performance.append(accuracy_score(y_test, y_pred))\n",
        "\n",
        "  # Calculate the average accuracy across all folds\n",
        "  avg = np.mean(performance)\n",
        "  return avg"
      ],
      "metadata": {
        "id": "FXOEzg4XdPuR"
      },
      "execution_count": 4,
      "outputs": []
    },
    {
      "cell_type": "code",
      "source": [
        "# testing parameters\n",
        "C = [0.001, 0.01, 0.1, 1, 10, 100]\n",
        "gamma_val = [0.001, 0.01, 0.1, 1, 10, 100]\n",
        "\n",
        "all_combos = []\n",
        "for c in C:\n",
        "  for gamma in gamma_val:\n",
        "    score = run_SVM(exploration_data, c, gamma)\n",
        "    all_combos.append([c, gamma, score])"
      ],
      "metadata": {
        "id": "tAjtqww5dWvP"
      },
      "execution_count": 5,
      "outputs": []
    },
    {
      "cell_type": "code",
      "source": [
        "# get the best combo\n",
        "params = pd.DataFrame(all_combos, columns = ['C', 'gamma', 'score'])\n",
        "(params.sort_values(by=['score'], ascending=False)).head()"
      ],
      "metadata": {
        "colab": {
          "base_uri": "https://localhost:8080/",
          "height": 206
        },
        "id": "0Um3X1kieN3V",
        "outputId": "5f9e6321-998a-4710-c62a-5633b49cbb8c"
      },
      "execution_count": 6,
      "outputs": [
        {
          "output_type": "execute_result",
          "data": {
            "text/plain": [
              "        C  gamma     score\n",
              "24   10.0  0.001  0.911019\n",
              "30  100.0  0.001  0.909366\n",
              "25   10.0  0.010  0.898347\n",
              "18    1.0  0.001  0.893113\n",
              "19    1.0  0.010  0.892287"
            ],
            "text/html": [
              "\n",
              "  <div id=\"df-a160043e-d727-4ef4-afb7-bde44b10f4ca\" class=\"colab-df-container\">\n",
              "    <div>\n",
              "<style scoped>\n",
              "    .dataframe tbody tr th:only-of-type {\n",
              "        vertical-align: middle;\n",
              "    }\n",
              "\n",
              "    .dataframe tbody tr th {\n",
              "        vertical-align: top;\n",
              "    }\n",
              "\n",
              "    .dataframe thead th {\n",
              "        text-align: right;\n",
              "    }\n",
              "</style>\n",
              "<table border=\"1\" class=\"dataframe\">\n",
              "  <thead>\n",
              "    <tr style=\"text-align: right;\">\n",
              "      <th></th>\n",
              "      <th>C</th>\n",
              "      <th>gamma</th>\n",
              "      <th>score</th>\n",
              "    </tr>\n",
              "  </thead>\n",
              "  <tbody>\n",
              "    <tr>\n",
              "      <th>24</th>\n",
              "      <td>10.0</td>\n",
              "      <td>0.001</td>\n",
              "      <td>0.911019</td>\n",
              "    </tr>\n",
              "    <tr>\n",
              "      <th>30</th>\n",
              "      <td>100.0</td>\n",
              "      <td>0.001</td>\n",
              "      <td>0.909366</td>\n",
              "    </tr>\n",
              "    <tr>\n",
              "      <th>25</th>\n",
              "      <td>10.0</td>\n",
              "      <td>0.010</td>\n",
              "      <td>0.898347</td>\n",
              "    </tr>\n",
              "    <tr>\n",
              "      <th>18</th>\n",
              "      <td>1.0</td>\n",
              "      <td>0.001</td>\n",
              "      <td>0.893113</td>\n",
              "    </tr>\n",
              "    <tr>\n",
              "      <th>19</th>\n",
              "      <td>1.0</td>\n",
              "      <td>0.010</td>\n",
              "      <td>0.892287</td>\n",
              "    </tr>\n",
              "  </tbody>\n",
              "</table>\n",
              "</div>\n",
              "    <div class=\"colab-df-buttons\">\n",
              "\n",
              "  <div class=\"colab-df-container\">\n",
              "    <button class=\"colab-df-convert\" onclick=\"convertToInteractive('df-a160043e-d727-4ef4-afb7-bde44b10f4ca')\"\n",
              "            title=\"Convert this dataframe to an interactive table.\"\n",
              "            style=\"display:none;\">\n",
              "\n",
              "  <svg xmlns=\"http://www.w3.org/2000/svg\" height=\"24px\" viewBox=\"0 -960 960 960\">\n",
              "    <path d=\"M120-120v-720h720v720H120Zm60-500h600v-160H180v160Zm220 220h160v-160H400v160Zm0 220h160v-160H400v160ZM180-400h160v-160H180v160Zm440 0h160v-160H620v160ZM180-180h160v-160H180v160Zm440 0h160v-160H620v160Z\"/>\n",
              "  </svg>\n",
              "    </button>\n",
              "\n",
              "  <style>\n",
              "    .colab-df-container {\n",
              "      display:flex;\n",
              "      gap: 12px;\n",
              "    }\n",
              "\n",
              "    .colab-df-convert {\n",
              "      background-color: #E8F0FE;\n",
              "      border: none;\n",
              "      border-radius: 50%;\n",
              "      cursor: pointer;\n",
              "      display: none;\n",
              "      fill: #1967D2;\n",
              "      height: 32px;\n",
              "      padding: 0 0 0 0;\n",
              "      width: 32px;\n",
              "    }\n",
              "\n",
              "    .colab-df-convert:hover {\n",
              "      background-color: #E2EBFA;\n",
              "      box-shadow: 0px 1px 2px rgba(60, 64, 67, 0.3), 0px 1px 3px 1px rgba(60, 64, 67, 0.15);\n",
              "      fill: #174EA6;\n",
              "    }\n",
              "\n",
              "    .colab-df-buttons div {\n",
              "      margin-bottom: 4px;\n",
              "    }\n",
              "\n",
              "    [theme=dark] .colab-df-convert {\n",
              "      background-color: #3B4455;\n",
              "      fill: #D2E3FC;\n",
              "    }\n",
              "\n",
              "    [theme=dark] .colab-df-convert:hover {\n",
              "      background-color: #434B5C;\n",
              "      box-shadow: 0px 1px 3px 1px rgba(0, 0, 0, 0.15);\n",
              "      filter: drop-shadow(0px 1px 2px rgba(0, 0, 0, 0.3));\n",
              "      fill: #FFFFFF;\n",
              "    }\n",
              "  </style>\n",
              "\n",
              "    <script>\n",
              "      const buttonEl =\n",
              "        document.querySelector('#df-a160043e-d727-4ef4-afb7-bde44b10f4ca button.colab-df-convert');\n",
              "      buttonEl.style.display =\n",
              "        google.colab.kernel.accessAllowed ? 'block' : 'none';\n",
              "\n",
              "      async function convertToInteractive(key) {\n",
              "        const element = document.querySelector('#df-a160043e-d727-4ef4-afb7-bde44b10f4ca');\n",
              "        const dataTable =\n",
              "          await google.colab.kernel.invokeFunction('convertToInteractive',\n",
              "                                                    [key], {});\n",
              "        if (!dataTable) return;\n",
              "\n",
              "        const docLinkHtml = 'Like what you see? Visit the ' +\n",
              "          '<a target=\"_blank\" href=https://colab.research.google.com/notebooks/data_table.ipynb>data table notebook</a>'\n",
              "          + ' to learn more about interactive tables.';\n",
              "        element.innerHTML = '';\n",
              "        dataTable['output_type'] = 'display_data';\n",
              "        await google.colab.output.renderOutput(dataTable, element);\n",
              "        const docLink = document.createElement('div');\n",
              "        docLink.innerHTML = docLinkHtml;\n",
              "        element.appendChild(docLink);\n",
              "      }\n",
              "    </script>\n",
              "  </div>\n",
              "\n",
              "\n",
              "<div id=\"df-6ac8903f-ac21-407d-8b24-069b29e8f2b8\">\n",
              "  <button class=\"colab-df-quickchart\" onclick=\"quickchart('df-6ac8903f-ac21-407d-8b24-069b29e8f2b8')\"\n",
              "            title=\"Suggest charts\"\n",
              "            style=\"display:none;\">\n",
              "\n",
              "<svg xmlns=\"http://www.w3.org/2000/svg\" height=\"24px\"viewBox=\"0 0 24 24\"\n",
              "     width=\"24px\">\n",
              "    <g>\n",
              "        <path d=\"M19 3H5c-1.1 0-2 .9-2 2v14c0 1.1.9 2 2 2h14c1.1 0 2-.9 2-2V5c0-1.1-.9-2-2-2zM9 17H7v-7h2v7zm4 0h-2V7h2v10zm4 0h-2v-4h2v4z\"/>\n",
              "    </g>\n",
              "</svg>\n",
              "  </button>\n",
              "\n",
              "<style>\n",
              "  .colab-df-quickchart {\n",
              "      --bg-color: #E8F0FE;\n",
              "      --fill-color: #1967D2;\n",
              "      --hover-bg-color: #E2EBFA;\n",
              "      --hover-fill-color: #174EA6;\n",
              "      --disabled-fill-color: #AAA;\n",
              "      --disabled-bg-color: #DDD;\n",
              "  }\n",
              "\n",
              "  [theme=dark] .colab-df-quickchart {\n",
              "      --bg-color: #3B4455;\n",
              "      --fill-color: #D2E3FC;\n",
              "      --hover-bg-color: #434B5C;\n",
              "      --hover-fill-color: #FFFFFF;\n",
              "      --disabled-bg-color: #3B4455;\n",
              "      --disabled-fill-color: #666;\n",
              "  }\n",
              "\n",
              "  .colab-df-quickchart {\n",
              "    background-color: var(--bg-color);\n",
              "    border: none;\n",
              "    border-radius: 50%;\n",
              "    cursor: pointer;\n",
              "    display: none;\n",
              "    fill: var(--fill-color);\n",
              "    height: 32px;\n",
              "    padding: 0;\n",
              "    width: 32px;\n",
              "  }\n",
              "\n",
              "  .colab-df-quickchart:hover {\n",
              "    background-color: var(--hover-bg-color);\n",
              "    box-shadow: 0 1px 2px rgba(60, 64, 67, 0.3), 0 1px 3px 1px rgba(60, 64, 67, 0.15);\n",
              "    fill: var(--button-hover-fill-color);\n",
              "  }\n",
              "\n",
              "  .colab-df-quickchart-complete:disabled,\n",
              "  .colab-df-quickchart-complete:disabled:hover {\n",
              "    background-color: var(--disabled-bg-color);\n",
              "    fill: var(--disabled-fill-color);\n",
              "    box-shadow: none;\n",
              "  }\n",
              "\n",
              "  .colab-df-spinner {\n",
              "    border: 2px solid var(--fill-color);\n",
              "    border-color: transparent;\n",
              "    border-bottom-color: var(--fill-color);\n",
              "    animation:\n",
              "      spin 1s steps(1) infinite;\n",
              "  }\n",
              "\n",
              "  @keyframes spin {\n",
              "    0% {\n",
              "      border-color: transparent;\n",
              "      border-bottom-color: var(--fill-color);\n",
              "      border-left-color: var(--fill-color);\n",
              "    }\n",
              "    20% {\n",
              "      border-color: transparent;\n",
              "      border-left-color: var(--fill-color);\n",
              "      border-top-color: var(--fill-color);\n",
              "    }\n",
              "    30% {\n",
              "      border-color: transparent;\n",
              "      border-left-color: var(--fill-color);\n",
              "      border-top-color: var(--fill-color);\n",
              "      border-right-color: var(--fill-color);\n",
              "    }\n",
              "    40% {\n",
              "      border-color: transparent;\n",
              "      border-right-color: var(--fill-color);\n",
              "      border-top-color: var(--fill-color);\n",
              "    }\n",
              "    60% {\n",
              "      border-color: transparent;\n",
              "      border-right-color: var(--fill-color);\n",
              "    }\n",
              "    80% {\n",
              "      border-color: transparent;\n",
              "      border-right-color: var(--fill-color);\n",
              "      border-bottom-color: var(--fill-color);\n",
              "    }\n",
              "    90% {\n",
              "      border-color: transparent;\n",
              "      border-bottom-color: var(--fill-color);\n",
              "    }\n",
              "  }\n",
              "</style>\n",
              "\n",
              "  <script>\n",
              "    async function quickchart(key) {\n",
              "      const quickchartButtonEl =\n",
              "        document.querySelector('#' + key + ' button');\n",
              "      quickchartButtonEl.disabled = true;  // To prevent multiple clicks.\n",
              "      quickchartButtonEl.classList.add('colab-df-spinner');\n",
              "      try {\n",
              "        const charts = await google.colab.kernel.invokeFunction(\n",
              "            'suggestCharts', [key], {});\n",
              "      } catch (error) {\n",
              "        console.error('Error during call to suggestCharts:', error);\n",
              "      }\n",
              "      quickchartButtonEl.classList.remove('colab-df-spinner');\n",
              "      quickchartButtonEl.classList.add('colab-df-quickchart-complete');\n",
              "    }\n",
              "    (() => {\n",
              "      let quickchartButtonEl =\n",
              "        document.querySelector('#df-6ac8903f-ac21-407d-8b24-069b29e8f2b8 button');\n",
              "      quickchartButtonEl.style.display =\n",
              "        google.colab.kernel.accessAllowed ? 'block' : 'none';\n",
              "    })();\n",
              "  </script>\n",
              "</div>\n",
              "    </div>\n",
              "  </div>\n"
            ],
            "application/vnd.google.colaboratory.intrinsic+json": {
              "type": "dataframe",
              "summary": "{\n  \"name\": \"(params\",\n  \"rows\": 5,\n  \"fields\": [\n    {\n      \"column\": \"C\",\n      \"properties\": {\n        \"dtype\": \"number\",\n        \"std\": 42.50058823122333,\n        \"min\": 1.0,\n        \"max\": 100.0,\n        \"num_unique_values\": 3,\n        \"samples\": [\n          10.0,\n          100.0,\n          1.0\n        ],\n        \"semantic_type\": \"\",\n        \"description\": \"\"\n      }\n    },\n    {\n      \"column\": \"gamma\",\n      \"properties\": {\n        \"dtype\": \"number\",\n        \"std\": 0.0049295030175464955,\n        \"min\": 0.001,\n        \"max\": 0.01,\n        \"num_unique_values\": 2,\n        \"samples\": [\n          0.01,\n          0.001\n        ],\n        \"semantic_type\": \"\",\n        \"description\": \"\"\n      }\n    },\n    {\n      \"column\": \"score\",\n      \"properties\": {\n        \"dtype\": \"number\",\n        \"std\": 0.008879758380873947,\n        \"min\": 0.8922865013774105,\n        \"max\": 0.9110192837465565,\n        \"num_unique_values\": 5,\n        \"samples\": [\n          0.9093663911845731,\n          0.8922865013774105\n        ],\n        \"semantic_type\": \"\",\n        \"description\": \"\"\n      }\n    }\n  ]\n}"
            }
          },
          "metadata": {},
          "execution_count": 6
        }
      ]
    },
    {
      "cell_type": "markdown",
      "source": [
        "Overall, there are 34 features in this dataset, each represented numerically, whether they are categorical or continuous. We filtered it down to 23. The best parameters for original features are C = 10 and gamma = 0.001."
      ],
      "metadata": {
        "id": "pdgILucRrrrm"
      }
    },
    {
      "cell_type": "markdown",
      "source": [
        "## PCA"
      ],
      "metadata": {
        "id": "GyCYzcl-Y0zf"
      }
    },
    {
      "cell_type": "code",
      "execution_count": 7,
      "metadata": {
        "id": "0F-c_GLr2WlT",
        "outputId": "783f1421-c414-4312-8a79-b9c8efefd0ac",
        "colab": {
          "base_uri": "https://localhost:8080/"
        }
      },
      "outputs": [
        {
          "output_type": "stream",
          "name": "stdout",
          "text": [
            "The first 20 principal components explain 99.97 of the variance.\n",
            "The first 12 principal components explain 99.41% of the variance.\n"
          ]
        }
      ],
      "source": [
        "# Perform feature scaling prior to PCA\n",
        "# mean center the data and divide by the standard deviation\n",
        "def feature_scale(X):\n",
        "    # X_scaled = (X - np.mean(X, axis=0)) / np.std(X, axis=0)\n",
        "    # return X_scaled\n",
        "    return X\n",
        "\n",
        "data_scaled = feature_scale(exploration_data[:, 1:])\n",
        "\n",
        "# Perform PCA\n",
        "data_cov = np.cov(data_scaled, rowvar=False)\n",
        "eigenvalues, eigenvectors = np.linalg.eig(data_cov)\n",
        "\n",
        "# Sort the eigenvectors by decreasing eigenvalues\n",
        "sorted_indices = np.argsort(eigenvalues)[::-1]\n",
        "sorted_eigvals = eigenvalues[sorted_indices]\n",
        "sorted_eigvecs = eigenvectors[:, sorted_indices]\n",
        "\n",
        "# Calculate the explained variance\n",
        "explained_variance = sorted_eigvals / np.sum(sorted_eigvals)\n",
        "\n",
        "# Calculate the cumulative explained variance for each number of components\n",
        "cumulative_explained_variance = np.cumsum(explained_variance)\n",
        "\n",
        "\n",
        "first_20_explained_variance = cumulative_explained_variance[19]\n",
        "first_12_explained_variance = cumulative_explained_variance[11]\n",
        "print(f'The first 20 principal components explain {first_20_explained_variance * 100:.2f} of the variance.')\n",
        "print(f'The first 12 principal components explain {first_12_explained_variance * 100:.2f}% of the variance.')\n",
        "\n"
      ]
    },
    {
      "cell_type": "code",
      "execution_count": 8,
      "metadata": {
        "id": "QuTP2wkOpsVM"
      },
      "outputs": [],
      "source": [
        "# top_20_eigvecs = sorted_eigvecs[:, :10]\n",
        "top_eigvecs = sorted_eigvecs[:, :12]\n",
        "\n",
        "# Project the data onto the top 20 eigenvectors\n",
        "data_proj = np.dot(data_scaled, top_eigvecs)\n",
        "\n",
        "# Reconstruct the data using the top 20 eigenvectors\n",
        "input = np.dot(data_proj, top_eigvecs.T)"
      ]
    },
    {
      "cell_type": "code",
      "source": [
        "# testing parameters\n",
        "C = [0.001, 0.01, 0.1, 1, 10, 100]\n",
        "gamma_val = [0.001, 0.01, 0.1, 1, 10, 100]\n",
        "\n",
        "all_combos = []\n",
        "for c in C:\n",
        "  for gamma in gamma_val:\n",
        "    score = run_SVM(input, c, gamma)\n",
        "    all_combos.append([c, gamma, score])"
      ],
      "metadata": {
        "id": "_NoZYqsucesy"
      },
      "execution_count": 9,
      "outputs": []
    },
    {
      "cell_type": "code",
      "source": [
        "# get the best combo\n",
        "params = pd.DataFrame(all_combos, columns = ['C', 'gamma', 'score'])\n",
        "(params.sort_values(by=['score'], ascending=False)).head()"
      ],
      "metadata": {
        "colab": {
          "base_uri": "https://localhost:8080/",
          "height": 206
        },
        "id": "j9dSnpwhdAnE",
        "outputId": "a0bb554d-08ee-450c-9e25-191bb02d300e"
      },
      "execution_count": 10,
      "outputs": [
        {
          "data": {
            "application/vnd.google.colaboratory.intrinsic+json": {
              "summary": "{\n  \"name\": \"(params\",\n  \"rows\": 5,\n  \"fields\": [\n    {\n      \"column\": \"C\",\n      \"properties\": {\n        \"dtype\": \"number\",\n        \"std\": 42.50058823122334,\n        \"min\": 1.0,\n        \"max\": 100.0,\n        \"num_unique_values\": 3,\n        \"samples\": [\n          10.0,\n          100.0,\n          1.0\n        ],\n        \"semantic_type\": \"\",\n        \"description\": \"\"\n      }\n    },\n    {\n      \"column\": \"gamma\",\n      \"properties\": {\n        \"dtype\": \"number\",\n        \"std\": 0.0049295030175464955,\n        \"min\": 0.001,\n        \"max\": 0.01,\n        \"num_unique_values\": 2,\n        \"samples\": [\n          0.01,\n          0.001\n        ],\n        \"semantic_type\": \"\",\n        \"description\": \"\"\n      }\n    },\n    {\n      \"column\": \"score\",\n      \"properties\": {\n        \"dtype\": \"number\",\n        \"std\": 0.005030849137121029,\n        \"min\": 0.8851239669421489,\n        \"max\": 0.896418732782369,\n        \"num_unique_values\": 5,\n        \"samples\": [\n          0.8944903581267217,\n          0.8851239669421489\n        ],\n        \"semantic_type\": \"\",\n        \"description\": \"\"\n      }\n    }\n  ]\n}",
              "type": "dataframe"
            },
            "text/html": [
              "\n",
              "  <div id=\"df-c1ec9d9b-f2d5-4ff9-a34a-2dedc03700e1\" class=\"colab-df-container\">\n",
              "    <div>\n",
              "<style scoped>\n",
              "    .dataframe tbody tr th:only-of-type {\n",
              "        vertical-align: middle;\n",
              "    }\n",
              "\n",
              "    .dataframe tbody tr th {\n",
              "        vertical-align: top;\n",
              "    }\n",
              "\n",
              "    .dataframe thead th {\n",
              "        text-align: right;\n",
              "    }\n",
              "</style>\n",
              "<table border=\"1\" class=\"dataframe\">\n",
              "  <thead>\n",
              "    <tr style=\"text-align: right;\">\n",
              "      <th></th>\n",
              "      <th>C</th>\n",
              "      <th>gamma</th>\n",
              "      <th>score</th>\n",
              "    </tr>\n",
              "  </thead>\n",
              "  <tbody>\n",
              "    <tr>\n",
              "      <th>24</th>\n",
              "      <td>10.0</td>\n",
              "      <td>0.001</td>\n",
              "      <td>0.896419</td>\n",
              "    </tr>\n",
              "    <tr>\n",
              "      <th>30</th>\n",
              "      <td>100.0</td>\n",
              "      <td>0.001</td>\n",
              "      <td>0.894490</td>\n",
              "    </tr>\n",
              "    <tr>\n",
              "      <th>18</th>\n",
              "      <td>1.0</td>\n",
              "      <td>0.001</td>\n",
              "      <td>0.887603</td>\n",
              "    </tr>\n",
              "    <tr>\n",
              "      <th>25</th>\n",
              "      <td>10.0</td>\n",
              "      <td>0.010</td>\n",
              "      <td>0.886777</td>\n",
              "    </tr>\n",
              "    <tr>\n",
              "      <th>19</th>\n",
              "      <td>1.0</td>\n",
              "      <td>0.010</td>\n",
              "      <td>0.885124</td>\n",
              "    </tr>\n",
              "  </tbody>\n",
              "</table>\n",
              "</div>\n",
              "    <div class=\"colab-df-buttons\">\n",
              "\n",
              "  <div class=\"colab-df-container\">\n",
              "    <button class=\"colab-df-convert\" onclick=\"convertToInteractive('df-c1ec9d9b-f2d5-4ff9-a34a-2dedc03700e1')\"\n",
              "            title=\"Convert this dataframe to an interactive table.\"\n",
              "            style=\"display:none;\">\n",
              "\n",
              "  <svg xmlns=\"http://www.w3.org/2000/svg\" height=\"24px\" viewBox=\"0 -960 960 960\">\n",
              "    <path d=\"M120-120v-720h720v720H120Zm60-500h600v-160H180v160Zm220 220h160v-160H400v160Zm0 220h160v-160H400v160ZM180-400h160v-160H180v160Zm440 0h160v-160H620v160ZM180-180h160v-160H180v160Zm440 0h160v-160H620v160Z\"/>\n",
              "  </svg>\n",
              "    </button>\n",
              "\n",
              "  <style>\n",
              "    .colab-df-container {\n",
              "      display:flex;\n",
              "      gap: 12px;\n",
              "    }\n",
              "\n",
              "    .colab-df-convert {\n",
              "      background-color: #E8F0FE;\n",
              "      border: none;\n",
              "      border-radius: 50%;\n",
              "      cursor: pointer;\n",
              "      display: none;\n",
              "      fill: #1967D2;\n",
              "      height: 32px;\n",
              "      padding: 0 0 0 0;\n",
              "      width: 32px;\n",
              "    }\n",
              "\n",
              "    .colab-df-convert:hover {\n",
              "      background-color: #E2EBFA;\n",
              "      box-shadow: 0px 1px 2px rgba(60, 64, 67, 0.3), 0px 1px 3px 1px rgba(60, 64, 67, 0.15);\n",
              "      fill: #174EA6;\n",
              "    }\n",
              "\n",
              "    .colab-df-buttons div {\n",
              "      margin-bottom: 4px;\n",
              "    }\n",
              "\n",
              "    [theme=dark] .colab-df-convert {\n",
              "      background-color: #3B4455;\n",
              "      fill: #D2E3FC;\n",
              "    }\n",
              "\n",
              "    [theme=dark] .colab-df-convert:hover {\n",
              "      background-color: #434B5C;\n",
              "      box-shadow: 0px 1px 3px 1px rgba(0, 0, 0, 0.15);\n",
              "      filter: drop-shadow(0px 1px 2px rgba(0, 0, 0, 0.3));\n",
              "      fill: #FFFFFF;\n",
              "    }\n",
              "  </style>\n",
              "\n",
              "    <script>\n",
              "      const buttonEl =\n",
              "        document.querySelector('#df-c1ec9d9b-f2d5-4ff9-a34a-2dedc03700e1 button.colab-df-convert');\n",
              "      buttonEl.style.display =\n",
              "        google.colab.kernel.accessAllowed ? 'block' : 'none';\n",
              "\n",
              "      async function convertToInteractive(key) {\n",
              "        const element = document.querySelector('#df-c1ec9d9b-f2d5-4ff9-a34a-2dedc03700e1');\n",
              "        const dataTable =\n",
              "          await google.colab.kernel.invokeFunction('convertToInteractive',\n",
              "                                                    [key], {});\n",
              "        if (!dataTable) return;\n",
              "\n",
              "        const docLinkHtml = 'Like what you see? Visit the ' +\n",
              "          '<a target=\"_blank\" href=https://colab.research.google.com/notebooks/data_table.ipynb>data table notebook</a>'\n",
              "          + ' to learn more about interactive tables.';\n",
              "        element.innerHTML = '';\n",
              "        dataTable['output_type'] = 'display_data';\n",
              "        await google.colab.output.renderOutput(dataTable, element);\n",
              "        const docLink = document.createElement('div');\n",
              "        docLink.innerHTML = docLinkHtml;\n",
              "        element.appendChild(docLink);\n",
              "      }\n",
              "    </script>\n",
              "  </div>\n",
              "\n",
              "\n",
              "<div id=\"df-ef083856-9e28-4f4e-9b8b-b2f2d7eb9c77\">\n",
              "  <button class=\"colab-df-quickchart\" onclick=\"quickchart('df-ef083856-9e28-4f4e-9b8b-b2f2d7eb9c77')\"\n",
              "            title=\"Suggest charts\"\n",
              "            style=\"display:none;\">\n",
              "\n",
              "<svg xmlns=\"http://www.w3.org/2000/svg\" height=\"24px\"viewBox=\"0 0 24 24\"\n",
              "     width=\"24px\">\n",
              "    <g>\n",
              "        <path d=\"M19 3H5c-1.1 0-2 .9-2 2v14c0 1.1.9 2 2 2h14c1.1 0 2-.9 2-2V5c0-1.1-.9-2-2-2zM9 17H7v-7h2v7zm4 0h-2V7h2v10zm4 0h-2v-4h2v4z\"/>\n",
              "    </g>\n",
              "</svg>\n",
              "  </button>\n",
              "\n",
              "<style>\n",
              "  .colab-df-quickchart {\n",
              "      --bg-color: #E8F0FE;\n",
              "      --fill-color: #1967D2;\n",
              "      --hover-bg-color: #E2EBFA;\n",
              "      --hover-fill-color: #174EA6;\n",
              "      --disabled-fill-color: #AAA;\n",
              "      --disabled-bg-color: #DDD;\n",
              "  }\n",
              "\n",
              "  [theme=dark] .colab-df-quickchart {\n",
              "      --bg-color: #3B4455;\n",
              "      --fill-color: #D2E3FC;\n",
              "      --hover-bg-color: #434B5C;\n",
              "      --hover-fill-color: #FFFFFF;\n",
              "      --disabled-bg-color: #3B4455;\n",
              "      --disabled-fill-color: #666;\n",
              "  }\n",
              "\n",
              "  .colab-df-quickchart {\n",
              "    background-color: var(--bg-color);\n",
              "    border: none;\n",
              "    border-radius: 50%;\n",
              "    cursor: pointer;\n",
              "    display: none;\n",
              "    fill: var(--fill-color);\n",
              "    height: 32px;\n",
              "    padding: 0;\n",
              "    width: 32px;\n",
              "  }\n",
              "\n",
              "  .colab-df-quickchart:hover {\n",
              "    background-color: var(--hover-bg-color);\n",
              "    box-shadow: 0 1px 2px rgba(60, 64, 67, 0.3), 0 1px 3px 1px rgba(60, 64, 67, 0.15);\n",
              "    fill: var(--button-hover-fill-color);\n",
              "  }\n",
              "\n",
              "  .colab-df-quickchart-complete:disabled,\n",
              "  .colab-df-quickchart-complete:disabled:hover {\n",
              "    background-color: var(--disabled-bg-color);\n",
              "    fill: var(--disabled-fill-color);\n",
              "    box-shadow: none;\n",
              "  }\n",
              "\n",
              "  .colab-df-spinner {\n",
              "    border: 2px solid var(--fill-color);\n",
              "    border-color: transparent;\n",
              "    border-bottom-color: var(--fill-color);\n",
              "    animation:\n",
              "      spin 1s steps(1) infinite;\n",
              "  }\n",
              "\n",
              "  @keyframes spin {\n",
              "    0% {\n",
              "      border-color: transparent;\n",
              "      border-bottom-color: var(--fill-color);\n",
              "      border-left-color: var(--fill-color);\n",
              "    }\n",
              "    20% {\n",
              "      border-color: transparent;\n",
              "      border-left-color: var(--fill-color);\n",
              "      border-top-color: var(--fill-color);\n",
              "    }\n",
              "    30% {\n",
              "      border-color: transparent;\n",
              "      border-left-color: var(--fill-color);\n",
              "      border-top-color: var(--fill-color);\n",
              "      border-right-color: var(--fill-color);\n",
              "    }\n",
              "    40% {\n",
              "      border-color: transparent;\n",
              "      border-right-color: var(--fill-color);\n",
              "      border-top-color: var(--fill-color);\n",
              "    }\n",
              "    60% {\n",
              "      border-color: transparent;\n",
              "      border-right-color: var(--fill-color);\n",
              "    }\n",
              "    80% {\n",
              "      border-color: transparent;\n",
              "      border-right-color: var(--fill-color);\n",
              "      border-bottom-color: var(--fill-color);\n",
              "    }\n",
              "    90% {\n",
              "      border-color: transparent;\n",
              "      border-bottom-color: var(--fill-color);\n",
              "    }\n",
              "  }\n",
              "</style>\n",
              "\n",
              "  <script>\n",
              "    async function quickchart(key) {\n",
              "      const quickchartButtonEl =\n",
              "        document.querySelector('#' + key + ' button');\n",
              "      quickchartButtonEl.disabled = true;  // To prevent multiple clicks.\n",
              "      quickchartButtonEl.classList.add('colab-df-spinner');\n",
              "      try {\n",
              "        const charts = await google.colab.kernel.invokeFunction(\n",
              "            'suggestCharts', [key], {});\n",
              "      } catch (error) {\n",
              "        console.error('Error during call to suggestCharts:', error);\n",
              "      }\n",
              "      quickchartButtonEl.classList.remove('colab-df-spinner');\n",
              "      quickchartButtonEl.classList.add('colab-df-quickchart-complete');\n",
              "    }\n",
              "    (() => {\n",
              "      let quickchartButtonEl =\n",
              "        document.querySelector('#df-ef083856-9e28-4f4e-9b8b-b2f2d7eb9c77 button');\n",
              "      quickchartButtonEl.style.display =\n",
              "        google.colab.kernel.accessAllowed ? 'block' : 'none';\n",
              "    })();\n",
              "  </script>\n",
              "</div>\n",
              "    </div>\n",
              "  </div>\n"
            ],
            "text/plain": [
              "        C  gamma     score\n",
              "24   10.0  0.001  0.896419\n",
              "30  100.0  0.001  0.894490\n",
              "18    1.0  0.001  0.887603\n",
              "25   10.0  0.010  0.886777\n",
              "19    1.0  0.010  0.885124"
            ]
          },
          "execution_count": 10,
          "metadata": {},
          "output_type": "execute_result"
        }
      ]
    },
    {
      "cell_type": "markdown",
      "source": [
        "The best parameters for original features are C = 10 and gamma = 0.001."
      ],
      "metadata": {
        "id": "xhc3dCsedCEU"
      }
    },
    {
      "cell_type": "markdown",
      "source": [
        "##Implement SVM to classify Graduate or Dropout"
      ],
      "metadata": {
        "id": "ODGym_O5r0KD"
      }
    },
    {
      "cell_type": "markdown",
      "source": [],
      "metadata": {
        "id": "s470iqMFdBBI"
      }
    },
    {
      "cell_type": "code",
      "source": [
        "# K fold cross validation\n",
        "k = 5\n",
        "kf = KFold(n_splits=k, shuffle=True, random_state=42)\n",
        "\n",
        "svm_model = SVC(C=10, gamma=0.001)"
      ],
      "metadata": {
        "id": "MkjSezxf0rVT"
      },
      "execution_count": 11,
      "outputs": []
    },
    {
      "cell_type": "code",
      "source": [
        "# scores w PCA\n",
        "scores = cross_val_score(svm_model, data_proj, processed_data['Target'], cv=kf)\n",
        "\n",
        "# confusion matrix\n",
        "y_pred = cross_val_predict(svm_model, data_proj, processed_data['Target'], cv=kf)\n",
        "cm = confusion_matrix(processed_data['Target'], y_pred)\n",
        "\n",
        "# metrics\n",
        "report = classification_report(processed_data['Target'], y_pred)"
      ],
      "metadata": {
        "id": "fy2owyzFL_BA"
      },
      "execution_count": 12,
      "outputs": []
    },
    {
      "cell_type": "code",
      "source": [
        "print(np.mean(scores))\n",
        "print(cm)\n",
        "print(report)"
      ],
      "metadata": {
        "colab": {
          "base_uri": "https://localhost:8080/"
        },
        "id": "PI3tEoy906CJ",
        "outputId": "ff72c714-3639-468e-b435-d243d24e67a8"
      },
      "execution_count": 13,
      "outputs": [
        {
          "output_type": "stream",
          "name": "stdout",
          "text": [
            "0.8975206611570249\n",
            "[[1135  286]\n",
            " [  86 2123]]\n",
            "              precision    recall  f1-score   support\n",
            "\n",
            "     Dropout       0.93      0.80      0.86      1421\n",
            "    Graduate       0.88      0.96      0.92      2209\n",
            "\n",
            "    accuracy                           0.90      3630\n",
            "   macro avg       0.91      0.88      0.89      3630\n",
            "weighted avg       0.90      0.90      0.90      3630\n",
            "\n"
          ]
        }
      ]
    },
    {
      "cell_type": "code",
      "source": [
        "# without PCA\n",
        "scores = cross_val_score(svm_model, data_scaled, processed_data['Target'], cv=kf)\n",
        "\n",
        "# confusion matrix\n",
        "y_pred = cross_val_predict(svm_model, data_scaled, processed_data['Target'], cv=kf)\n",
        "cm = confusion_matrix(processed_data['Target'], y_pred)\n",
        "\n",
        "# metrics\n",
        "report = classification_report(processed_data['Target'], y_pred)"
      ],
      "metadata": {
        "id": "-s5rEd0Y1KPY"
      },
      "execution_count": 14,
      "outputs": []
    },
    {
      "cell_type": "code",
      "source": [
        "print(np.mean(scores))\n",
        "print(cm)\n",
        "print(report)"
      ],
      "metadata": {
        "colab": {
          "base_uri": "https://localhost:8080/"
        },
        "id": "sml55DNO1KEd",
        "outputId": "fcebd76d-3a3d-441a-ece1-3951113176d7"
      },
      "execution_count": 15,
      "outputs": [
        {
          "output_type": "stream",
          "name": "stdout",
          "text": [
            "0.908815426997245\n",
            "[[1159  262]\n",
            " [  69 2140]]\n",
            "              precision    recall  f1-score   support\n",
            "\n",
            "     Dropout       0.94      0.82      0.88      1421\n",
            "    Graduate       0.89      0.97      0.93      2209\n",
            "\n",
            "    accuracy                           0.91      3630\n",
            "   macro avg       0.92      0.89      0.90      3630\n",
            "weighted avg       0.91      0.91      0.91      3630\n",
            "\n"
          ]
        }
      ]
    },
    {
      "cell_type": "markdown",
      "source": [
        "## Graphs"
      ],
      "metadata": {
        "id": "J3vKHAlPYqub"
      }
    },
    {
      "cell_type": "code",
      "source": [
        "# The following code will plot the decision boundary on a dataset for a given classifier.\n",
        "# source: https://github.com/rasbt/python-machine-learning-book-2nd-edition/blob/master/code/ch02/ch02.ipynb\n",
        "def plot_decision_regions(X, y, classifier, resolution=0.02):\n",
        "\n",
        "    # set up marker generator and color map\n",
        "    markers = ('s', 'x', 'o', '^', 'v')\n",
        "    colors = ('red', 'blue', 'lightgreen', 'gray', 'cyan')\n",
        "    cmap = ListedColormap(colors[:len(np.unique(y))])\n",
        "\n",
        "    # plot the decision surface\n",
        "    x1_min, x1_max = X[:, 0].min() - 1, X[:, 0].max() + 1\n",
        "    x2_min, x2_max = X[:, 1].min() - 1, X[:, 1].max() + 1\n",
        "    xx1, xx2 = np.meshgrid(np.arange(x1_min, x1_max, resolution),\n",
        "                           np.arange(x2_min, x2_max, resolution))\n",
        "    Z = classifier.predict(np.array([xx1.ravel(), xx2.ravel()]).T)\n",
        "    Z = Z.reshape(xx1.shape)\n",
        "    plt.contourf(xx1, xx2, Z, alpha=0.3, cmap=cmap)\n",
        "    plt.xlim(xx1.min(), xx1.max())\n",
        "    plt.ylim(xx2.min(), xx2.max())\n",
        "\n",
        "    # plot class samples\n",
        "    for idx, cl in enumerate(np.unique(y)):\n",
        "        plt.scatter(x=X[y == cl, 0],\n",
        "                    y=X[y == cl, 1],\n",
        "                    alpha=0.8,\n",
        "                    c=colors[idx],\n",
        "                    marker=markers[idx],\n",
        "                    label=cl,\n",
        "                    edgecolor='black')\n",
        "\n",
        "\n",
        "# plot decision boundary for first two PCA features\n",
        "sv = SVC(C=10, gamma=0.001)\n",
        "sv.fit(data_proj[:,:2], df.ravel())\n",
        "plot_decision_regions(data_proj[:,:2], df.ravel(), sv)"
      ],
      "metadata": {
        "colab": {
          "base_uri": "https://localhost:8080/",
          "height": 486
        },
        "id": "oy2uixUbYsvm",
        "outputId": "3c678320-d5ff-493e-d84e-7b92a1dbaa13"
      },
      "execution_count": 16,
      "outputs": [
        {
          "output_type": "stream",
          "name": "stderr",
          "text": [
            "<ipython-input-16-34080e2ba258>:23: UserWarning: You passed a edgecolor/edgecolors ('black') for an unfilled marker ('x').  Matplotlib is ignoring the edgecolor in favor of the facecolor.  This behavior may change in the future.\n",
            "  plt.scatter(x=X[y == cl, 0],\n"
          ]
        },
        {
          "output_type": "display_data",
          "data": {
            "text/plain": [
              "<Figure size 640x480 with 1 Axes>"
            ],
            "image/png": "[encoded data removed]"
          },
          "metadata": {}
        }
      ]
    },
    {
      "cell_type": "markdown",
      "source": [
        "Acknowledgements:\n",
        "- ChatGPT 3.5\n",
        "- Assignment 3 (GDA and SVM assignment)\n",
        "- [Student Retention Dataset](https://www.kaggle.com/datasets/thedevastator/higher-education-predictors-of-student-retention?resource=download)\n",
        "- [paper](https://www.mdpi.com/1912602)"
      ],
      "metadata": {
        "id": "2BIXnskSXKop"
      }
    }
  ],
  "metadata": {
    "colab": {
      "provenance": []
    },
    "kernelspec": {
      "display_name": "Python 3",
      "name": "python3"
    },
    "language_info": {
      "codemirror_mode": {
        "name": "ipython",
        "version": 3
      },
      "file_extension": ".py",
      "mimetype": "text/x-python",
      "name": "python",
      "nbconvert_exporter": "python",
      "pygments_lexer": "ipython3",
      "version": "3.11.8"
    }
  },
  "nbformat": 4,
  "nbformat_minor": 0
}